{
 "cells": [
  {
   "cell_type": "code",
   "execution_count": 2,
   "metadata": {},
   "outputs": [],
   "source": [
    "import pandas as pd\n",
    "import json\n",
    "from pathlib import Path\n",
    "from pymongo import MongoClient\n",
    "from pymongo.operations import InsertOne\n",
    "# uniform resource indentifier\n",
    "uri = \"abc\"\n",
    "# Create a new client and connect to the server\n",
    "client = MongoClient(uri)\n",
    "\n",
    "chunk_size = 1000\n",
    "\n",
    "# create database name and collection name\n",
    "DATABASE_NAME=\"backorder-prediction\"\n",
    "COLLECTION_NAME=\"test\"\n",
    "TEST_DATA_FILE_PATH = Path(\"dataset/Kaggle_Test_Dataset_v2.csv\",low_memory=False)\n",
    "TRAIN_DATA_FILE_PATH = Path(\"dataset/Kaggle_Training_Dataset_v2.csv\",low_memory=False)\n",
    "\n",
    "\n",
    "# read the data as a dataframe\n",
    "df=pd.read_csv(TEST_DATA_FILE_PATH,low_memory=False)\n",
    "\n",
    "\n",
    "# Read CSV file in chunks and insert into MongoDB\n",
    "# for chunk in pd.read_csv(TEST_DATA_FILE_PATH,low_memory=False, chunksize=chunk_size):\n",
    "#     # Convert the chunk to a list of dictionaries\n",
    "#     records = chunk.to_dict(orient=\"records\")\n",
    "\n",
    "#     # Insert the records into MongoDB\n",
    "#     client[DATABASE_NAME][COLLECTION_NAME].insert_many(records)\n",
    "\n",
    "# # Close the MongoDB connection\n",
    "# client.close()"
   ]
  },
  {
   "cell_type": "code",
   "execution_count": 5,
   "metadata": {},
   "outputs": [],
   "source": [
    "train_df = pd.read_csv(TRAIN_DATA_FILE_PATH,low_memory=False)"
   ]
  },
  {
   "cell_type": "code",
   "execution_count": 6,
   "metadata": {},
   "outputs": [
    {
     "data": {
      "text/plain": [
       "(1687861, 23)"
      ]
     },
     "execution_count": 6,
     "metadata": {},
     "output_type": "execute_result"
    }
   ],
   "source": [
    "train_df.shape"
   ]
  },
  {
   "cell_type": "code",
   "execution_count": 6,
   "metadata": {},
   "outputs": [
    {
     "ename": "AttributeError",
     "evalue": "'MongodbClient' object has no attribute 'close'",
     "output_type": "error",
     "traceback": [
      "\u001b[0;31m---------------------------------------------------------------------------\u001b[0m",
      "\u001b[0;31mAttributeError\u001b[0m                            Traceback (most recent call last)",
      "Cell \u001b[0;32mIn[6], line 1\u001b[0m\n\u001b[0;32m----> 1\u001b[0m \u001b[43mmongoclient\u001b[49m\u001b[38;5;241;43m.\u001b[39;49m\u001b[43mclose\u001b[49m()  \n",
      "\u001b[0;31mAttributeError\u001b[0m: 'MongodbClient' object has no attribute 'close'"
     ]
    }
   ],
   "source": []
  },
  {
   "cell_type": "code",
   "execution_count": null,
   "metadata": {},
   "outputs": [],
   "source": []
  }
 ],
 "metadata": {
  "kernelspec": {
   "display_name": "Python 3",
   "language": "python",
   "name": "python3"
  },
  "language_info": {
   "codemirror_mode": {
    "name": "ipython",
    "version": 3
   },
   "file_extension": ".py",
   "mimetype": "text/x-python",
   "name": "python",
   "nbconvert_exporter": "python",
   "pygments_lexer": "ipython3",
   "version": "3.8.0"
  }
 },
 "nbformat": 4,
 "nbformat_minor": 2
}
